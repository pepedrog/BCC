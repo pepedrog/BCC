{
 "cells": [
  {
   "cell_type": "markdown",
   "metadata": {},
   "source": [
    "# Introdução\n",
    "- Este exercício programa se trata da modelagem e simulação do movimento uniforme e uniformemente acelerado.a\n",
    "    - O sistema físico consiste em uma pessoa realizando uma travessia de aproximadamente 30 metros, imprimindo aceleração próxima de nula ou constante. Outras duas pessoas acompanhando a travessia em posições iguais ou alternadas e marcando o tempo aproximado de passagem em cada setor (A quarta pessoa estará filmando o procedimento)."
   ]
  },
  {
   "cell_type": "markdown",
   "metadata": {},
   "source": [
    "# Método\n",
    "- Cadastramos cada pessoa como uma classe\n",
    "- Lemos cada um dos arquivos com as 'corridas'\n",
    "- Cada corrida é processada:\n",
    "    - Calculamos a velocidade/aceleração médias\n",
    "    - Calculamos a velocidade e aceleração médias em cada um dos setores\n",
    "    - Passamos o conteúdo do CSV para lists/dict\n",
    "- Inserimos o conteúdo gerado acima na instância que representa cada pessoa\n",
    "- Após ler todas as corridas, para cada uma das instâncias da classe 'pessoa'\n",
    "    - Realizamos simulação utilizando a média de cada uma das pessoas\n",
    "    - Comparamos com cada uma das corridas da pessoa e calculamos a média do erro (em %)\n",
    "- Produzimos os gráficos de cada bateria de testes de cada pessoa"
   ]
  },
  {
   "cell_type": "code",
   "execution_count": 1,
   "metadata": {},
   "outputs": [
    {
     "name": "stdout",
     "output_type": "stream",
     "text": [
      "oi\n"
     ]
    }
   ],
   "source": [
    "print(\"oi\")"
   ]
  }
 ],
 "metadata": {
  "kernelspec": {
   "display_name": "Python 3",
   "language": "python",
   "name": "python3"
  },
  "language_info": {
   "codemirror_mode": {
    "name": "ipython",
    "version": 3
   },
   "file_extension": ".py",
   "mimetype": "text/x-python",
   "name": "python",
   "nbconvert_exporter": "python",
   "pygments_lexer": "ipython3",
   "version": "3.7.1"
  }
 },
 "nbformat": 4,
 "nbformat_minor": 2
}
